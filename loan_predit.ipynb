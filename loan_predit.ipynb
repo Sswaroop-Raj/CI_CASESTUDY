{
  "nbformat": 4,
  "nbformat_minor": 0,
  "metadata": {
    "kernelspec": {
      "display_name": "Python 3",
      "language": "python",
      "name": "python3"
    },
    "language_info": {
      "codemirror_mode": {
        "name": "ipython",
        "version": 3
      },
      "file_extension": ".py",
      "mimetype": "text/x-python",
      "name": "python",
      "nbconvert_exporter": "python",
      "pygments_lexer": "ipython3",
      "version": "3.6.8"
    },
    "colab": {
      "name": "loan_predit.ipynb",
      "provenance": []
    }
  },
  "cells": [
    {
      "cell_type": "code",
      "metadata": {
        "colab": {
          "resources": {
            "http://localhost:8080/nbextensions/google.colab/files.js": {
              "data": "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",
              "ok": true,
              "headers": [
                [
                  "content-type",
                  "application/javascript"
                ]
              ],
              "status": 200,
              "status_text": ""
            }
          },
          "base_uri": "https://localhost:8080/",
          "height": 72
        },
        "id": "V2SZiS3UDnSp",
        "outputId": "f0e055b9-c3d0-4bc8-dfa4-50f08df1513a"
      },
      "source": [
        "from google.colab import files\n",
        "uploaded = files.upload()"
      ],
      "execution_count": 1,
      "outputs": [
        {
          "output_type": "display_data",
          "data": {
            "text/html": [
              "\n",
              "     <input type=\"file\" id=\"files-fbf89976-58f2-44d7-b050-1ca05aa7cb69\" name=\"files[]\" multiple disabled\n",
              "        style=\"border:none\" />\n",
              "     <output id=\"result-fbf89976-58f2-44d7-b050-1ca05aa7cb69\">\n",
              "      Upload widget is only available when the cell has been executed in the\n",
              "      current browser session. Please rerun this cell to enable.\n",
              "      </output>\n",
              "      <script src=\"/nbextensions/google.colab/files.js\"></script> "
            ],
            "text/plain": [
              "<IPython.core.display.HTML object>"
            ]
          },
          "metadata": {
            "tags": []
          }
        },
        {
          "output_type": "stream",
          "text": [
            "Saving Loans.csv to Loans.csv\n"
          ],
          "name": "stdout"
        }
      ]
    },
    {
      "cell_type": "code",
      "metadata": {
        "colab": {
          "base_uri": "https://localhost:8080/"
        },
        "id": "UrWGGdcEEChU",
        "outputId": "5614bd8c-809e-4fb4-9f2d-d035792fc03e"
      },
      "source": [
        "import io\n",
        "import pandas as pd\n",
        "data = pd.read_csv(io.BytesIO(uploaded['Loans.csv']))\n",
        "print(data.head(2))"
      ],
      "execution_count": 5,
      "outputs": [
        {
          "output_type": "stream",
          "text": [
            "   credit.policy             purpose  ...  not.fully.paid  annualincome\n",
            "0              1  debt_consolidation  ...               1         45000\n",
            "1              1           all_other  ...               1         60000\n",
            "\n",
            "[2 rows x 15 columns]\n"
          ],
          "name": "stdout"
        }
      ]
    },
    {
      "cell_type": "code",
      "metadata": {
        "colab": {
          "base_uri": "https://localhost:8080/"
        },
        "id": "nWUJemLEP7ck",
        "outputId": "aeb817f2-7251-4a73-a501-ad56e9c71e26"
      },
      "source": [
        "d = data.head()\n",
        "print(d)"
      ],
      "execution_count": 12,
      "outputs": [
        {
          "output_type": "stream",
          "text": [
            "   credit.policy  purpose  int.rate  ...  pub.rec  not.fully.paid  annualincome\n",
            "0              1        0    0.1496  ...        1               1         45000\n",
            "1              1        1    0.1114  ...        0               1         60000\n",
            "2              1        0    0.1343  ...        0               1        145000\n",
            "3              1        1    0.1059  ...        0               1         33990\n",
            "4              1        0    0.1501  ...        0               1        213000\n",
            "\n",
            "[5 rows x 15 columns]\n"
          ],
          "name": "stdout"
        }
      ]
    },
    {
      "cell_type": "code",
      "metadata": {
        "colab": {
          "base_uri": "https://localhost:8080/"
        },
        "id": "kzmupnr6DnS0",
        "outputId": "a0c01208-6574-42ad-9a84-48a42114f396"
      },
      "source": [
        "print(data.describe())"
      ],
      "execution_count": 6,
      "outputs": [
        {
          "output_type": "stream",
          "text": [
            "       credit.policy     int.rate  ...  not.fully.paid  annualincome\n",
            "count    5000.000000  5000.000000  ...     5000.000000  5.000000e+03\n",
            "mean        0.896200     0.120816  ...        0.306600  6.626021e+04\n",
            "std         0.305031     0.025336  ...        0.461128  5.686419e+04\n",
            "min         0.000000     0.060000  ...        0.000000  2.000000e+03\n",
            "25%         1.000000     0.100800  ...        0.000000  3.800000e+04\n",
            "50%         1.000000     0.121800  ...        0.000000  5.500000e+04\n",
            "75%         1.000000     0.137900  ...        1.000000  7.900000e+04\n",
            "max         1.000000     0.216400  ...        1.000000  2.039784e+06\n",
            "\n",
            "[8 rows x 14 columns]\n"
          ],
          "name": "stdout"
        }
      ]
    },
    {
      "cell_type": "code",
      "metadata": {
        "id": "P2jq0jH5DnS0",
        "outputId": "31dc064a-7bb5-444b-f7ca-619ee4b47de8"
      },
      "source": [
        "print(data[data['not.fully.paid'] == 1].describe())"
      ],
      "execution_count": null,
      "outputs": [
        {
          "output_type": "stream",
          "text": [
            "       credit.policy     int.rate  installment  log.annual.inc          dti  \\\n",
            "count    1533.000000  1533.000000  1533.000000     1533.000000  1533.000000   \n",
            "mean        0.661448     0.132452   342.785114       10.885023    13.195838   \n",
            "std         0.473372     0.025495   223.948527        0.666718     7.006769   \n",
            "min         0.000000     0.070500    15.910000        7.600902     0.000000   \n",
            "25%         0.000000     0.115400   168.640000       10.491274     7.830000   \n",
            "50%         1.000000     0.131600   287.310000       10.878047    13.340000   \n",
            "75%         1.000000     0.148200   491.300000       11.276633    18.830000   \n",
            "max         1.000000     0.216400   926.830000       13.458836    29.960000   \n",
            "\n",
            "              fico  days.with.cr.line     revol.bal   revol.util  \\\n",
            "count  1533.000000        1533.000000  1.533000e+03  1533.000000   \n",
            "mean    697.828441        4393.541259  2.106629e+04    52.255075   \n",
            "std      33.756808        2431.785491  4.990569e+04    29.057906   \n",
            "min     617.000000         180.041667  0.000000e+00     0.000000   \n",
            "25%     672.000000        2759.958333  3.323000e+03    29.900000   \n",
            "50%     692.000000        4050.000000  8.850000e+03    53.900000   \n",
            "75%     717.000000        5580.041667  2.061600e+04    77.000000   \n",
            "max     822.000000       15692.000000  1.207359e+06   106.500000   \n",
            "\n",
            "       inq.last.6mths  delinq.2yrs      pub.rec  not.fully.paid   annualincome  \n",
            "count     1533.000000  1533.000000  1533.000000          1533.0    1533.000000  \n",
            "mean         2.330724     0.174821     0.091324             1.0   67360.671885  \n",
            "std          2.933480     0.520562     0.292659             0.0   59224.859089  \n",
            "min          0.000000     0.000000     0.000000             1.0    2000.000000  \n",
            "25%          0.000000     0.000000     0.000000             1.0   36000.000000  \n",
            "50%          1.000000     0.000000     0.000000             1.0   53000.000000  \n",
            "75%          3.000000     0.000000     0.000000             1.0   78955.000000  \n",
            "max         33.000000     4.000000     2.000000             1.0  700000.000000  \n"
          ],
          "name": "stdout"
        }
      ]
    },
    {
      "cell_type": "code",
      "metadata": {
        "id": "_4hN065BDnS0",
        "outputId": "86f40369-8a00-450f-b50f-4bab45690e17"
      },
      "source": [
        "print(data[data['not.fully.paid'] == 0].describe())"
      ],
      "execution_count": null,
      "outputs": [
        {
          "output_type": "stream",
          "text": [
            "       credit.policy     int.rate  installment  log.annual.inc          dti  \\\n",
            "count         3467.0  3467.000000  3467.000000     3467.000000  3467.000000   \n",
            "mean             1.0     0.115671   293.089201       10.923667    11.916432   \n",
            "std              0.0     0.023498   182.272593        0.566024     6.603058   \n",
            "min              1.0     0.060000    15.690000        8.342840     0.000000   \n",
            "25%              1.0     0.096300   159.920000       10.585573     6.775000   \n",
            "50%              1.0     0.116600   249.680000       10.915088    11.860000   \n",
            "75%              1.0     0.131600   394.360000       11.277203    17.120000   \n",
            "max              1.0     0.208600   914.420000       14.528354    29.420000   \n",
            "\n",
            "              fico  days.with.cr.line      revol.bal   revol.util  \\\n",
            "count  3467.000000        3467.000000    3467.000000  3467.000000   \n",
            "mean    716.717335        4562.523339   13576.013268    43.804753   \n",
            "std      36.935882        2411.216297   16685.502884    28.800678   \n",
            "min     627.000000        1110.000000       0.000000     0.000000   \n",
            "25%     687.000000        2820.000000    3343.000000    18.950000   \n",
            "50%     712.000000        4109.041667    8507.000000    42.100000   \n",
            "75%     742.000000        5669.958333   17448.500000    66.950000   \n",
            "max     827.000000       16259.041670  149527.000000    99.700000   \n",
            "\n",
            "       inq.last.6mths  delinq.2yrs      pub.rec  not.fully.paid  annualincome  \n",
            "count     3467.000000  3467.000000  3467.000000          3467.0  3.467000e+03  \n",
            "mean         0.998269     0.155466     0.055956             0.0  6.577362e+04  \n",
            "std          1.166961     0.486163     0.239701             0.0  5.579036e+04  \n",
            "min          0.000000     0.000000     0.000000             0.0  4.200000e+03  \n",
            "25%          0.000000     0.000000     0.000000             0.0  3.956000e+04  \n",
            "50%          1.000000     0.000000     0.000000             0.0  5.500000e+04  \n",
            "75%          2.000000     0.000000     0.000000             0.0  7.900000e+04  \n",
            "max          8.000000     6.000000     3.000000             0.0  2.039784e+06  \n"
          ],
          "name": "stdout"
        }
      ]
    },
    {
      "cell_type": "code",
      "metadata": {
        "colab": {
          "base_uri": "https://localhost:8080/"
        },
        "id": "9QQ47RBDDnS1",
        "outputId": "7da1acfc-9135-408c-8734-d7bc54ee6886"
      },
      "source": [
        "print(\"Number of loans that have 50% credit utilization and defaulted: \")\n",
        "print(len(data[(data['revol.util'] > 50.00) & (data['not.fully.paid'] == 1)]))\n",
        "print(\"Number of loans that have 50% credit utilization and not defaulted: \")\n",
        "print(len(data[(data['revol.util'] > 50.00) & (data['not.fully.paid'] == 0)]))"
      ],
      "execution_count": 7,
      "outputs": [
        {
          "output_type": "stream",
          "text": [
            "Number of loans that have 50% credit utilization and defaulted: \n",
            "837\n",
            "Number of loans that have 50% credit utilization and not defaulted: \n",
            "1433\n"
          ],
          "name": "stdout"
        }
      ]
    },
    {
      "cell_type": "code",
      "metadata": {
        "colab": {
          "base_uri": "https://localhost:8080/"
        },
        "id": "TjjcGTsxDnS1",
        "outputId": "bb0ebf22-e2d9-4cbb-bb57-807bcb5740df"
      },
      "source": [
        "from sklearn import preprocessing\n",
        "from scipy.stats import boxcox\n",
        "from sklearn.preprocessing import OneHotEncoder\n",
        "\n",
        "#Print unique values of purpose\n",
        "print(pd.Series.unique(data['purpose']))\n",
        "# Convert purpose to category\n",
        "data['purpose'] = data['purpose'].astype('category')\n",
        "#OneHotEcoding\n",
        "data['purpose'] = pd.get_dummies(data['purpose'], prefix=['purpose'])\n",
        "\n",
        "#extract dependent variable as label\n",
        "Y = data['not.fully.paid']\n",
        "#Drop dependent variable and categorical variable\n",
        "X = data.drop('not.fully.paid', 1)\n",
        "\n",
        "#scale dependent variable\n",
        "X = preprocessing.scale(X)\n",
        "\n",
        "#print first row of X\n",
        "print(X[0])\n",
        "print(X[0].mean(axis=0))\n",
        "print(X[0].std(axis=0))"
      ],
      "execution_count": 8,
      "outputs": [
        {
          "output_type": "stream",
          "text": [
            "['debt_consolidation' 'all_other' 'credit_card' 'small_business'\n",
            " 'home_improvement' 'educational' 'major_purchase']\n",
            "[ 0.34032684 -0.57026784  1.13619619 -0.57938823 -0.32964068 -1.23021742\n",
            " -1.18644994 -0.55024824 -0.38676608  1.04354413 -0.70711203 -0.32478726\n",
            "  3.62321686 -0.37391434]\n",
            "-0.006822001516728127\n",
            "1.2104049514994222\n"
          ],
          "name": "stdout"
        }
      ]
    },
    {
      "cell_type": "code",
      "metadata": {
        "colab": {
          "base_uri": "https://localhost:8080/"
        },
        "id": "rMCg6XWPDnS1",
        "outputId": "623193e9-3dfd-4f28-8685-dae32ea380e9"
      },
      "source": [
        "#Shuffle and split data into 70% in training and 30% in testing\n",
        "from sklearn.model_selection import train_test_split\n",
        "X_train, X_test, Y_train, Y_test = train_test_split(X, Y, test_size=0.3, random_state=42)\n",
        "print(\"X_train size = {0}\".format(len(X_train)))\n",
        "print(\"Y_train size = {0}\".format(len(Y_train)))\n",
        "print(\"X_test size = {0}\".format(len(X_test)))"
      ],
      "execution_count": 10,
      "outputs": [
        {
          "output_type": "stream",
          "text": [
            "X_train size = 3500\n",
            "Y_train size = 3500\n",
            "X_test size = 1500\n"
          ],
          "name": "stdout"
        }
      ]
    },
    {
      "cell_type": "code",
      "metadata": {
        "colab": {
          "base_uri": "https://localhost:8080/"
        },
        "id": "FPIpsSUcDnS2",
        "outputId": "c8397930-c110-41b3-b65f-374907ee6d04"
      },
      "source": [
        "#Using Artificial Neural Network\n",
        "import numpy as np\n",
        "import keras\n",
        "from keras.models import Sequential\n",
        "from keras.layers import Dense\n",
        "from keras.layers import Dropout\n",
        "import time\n",
        "from sklearn import metrics\n",
        "from sklearn.metrics import confusion_matrix\n",
        "\n",
        "#Fit ANN model to data\n",
        "startTrain = time.time()\n",
        "classifier = Sequential()\n",
        "classifier.add(Dense(activation=\"relu\", kernel_initializer=\"uniform\", units= 6, input_dim=14))\n",
        "classifier.add(Dropout(rate=0.1)) \n",
        "classifier.add(Dense(activation=\"relu\", kernel_initializer=\"uniform\", units=6)) \n",
        "classifier.add(Dense(activation=\"sigmoid\", kernel_initializer=\"uniform\", units=1))\n",
        "classifier.compile(optimizer='adam', loss='binary_crossentropy', metrics=['accuracy'])\n",
        "classifier.fit(np.array(X_train), np.array(Y_train), batch_size=10, epochs=100)\n",
        "endTrain = time.time()\n",
        "\n",
        "print(\"ANN training time (secs): {0}\".format(endTrain - startTrain))\n",
        "\n",
        "#Predict using ANN\n",
        "startTest = time.time()\n",
        "Y_pred = classifier.predict_classes(np.array(X_test))\n",
        "endTest = time.time()\n",
        "\n",
        "print(\"ANN prediction time (secs): {0}\".format(endTest - startTest))\n",
        "print(\"ANN accuracy in testing set: {0}\".format(metrics.accuracy_score(Y_test, Y_pred)))\n",
        "print(\"ANN F1 score in testing set: {0}\".format(metrics.f1_score(Y_test, Y_pred, average='micro')))\n",
        "\n",
        "from sklearn.metrics import confusion_matrix\n",
        "cm = confusion_matrix(Y_test, Y_pred)\n",
        "\n",
        "print(\"ANN Confusion Matrix: {0}\".format(cm))"
      ],
      "execution_count": 11,
      "outputs": [
        {
          "output_type": "stream",
          "text": [
            "Epoch 1/100\n",
            "350/350 [==============================] - 1s 1ms/step - loss: 0.6475 - accuracy: 0.6901\n",
            "Epoch 2/100\n",
            "350/350 [==============================] - 0s 1ms/step - loss: 0.4930 - accuracy: 0.8057\n",
            "Epoch 3/100\n",
            "350/350 [==============================] - 0s 1ms/step - loss: 0.4358 - accuracy: 0.8125\n",
            "Epoch 4/100\n",
            "350/350 [==============================] - 0s 1ms/step - loss: 0.4392 - accuracy: 0.8131\n",
            "Epoch 5/100\n",
            "350/350 [==============================] - 0s 1ms/step - loss: 0.4471 - accuracy: 0.8070\n",
            "Epoch 6/100\n",
            "350/350 [==============================] - 0s 1ms/step - loss: 0.4652 - accuracy: 0.7876\n",
            "Epoch 7/100\n",
            "350/350 [==============================] - 0s 1ms/step - loss: 0.4316 - accuracy: 0.8131\n",
            "Epoch 8/100\n",
            "350/350 [==============================] - 0s 1ms/step - loss: 0.4402 - accuracy: 0.8065\n",
            "Epoch 9/100\n",
            "350/350 [==============================] - 0s 1ms/step - loss: 0.4409 - accuracy: 0.8026\n",
            "Epoch 10/100\n",
            "350/350 [==============================] - 0s 1ms/step - loss: 0.4478 - accuracy: 0.7982\n",
            "Epoch 11/100\n",
            "350/350 [==============================] - 0s 1ms/step - loss: 0.4493 - accuracy: 0.8017\n",
            "Epoch 12/100\n",
            "350/350 [==============================] - 0s 1ms/step - loss: 0.4551 - accuracy: 0.8019\n",
            "Epoch 13/100\n",
            "350/350 [==============================] - 0s 1ms/step - loss: 0.4398 - accuracy: 0.8080\n",
            "Epoch 14/100\n",
            "350/350 [==============================] - 0s 1ms/step - loss: 0.4334 - accuracy: 0.8100\n",
            "Epoch 15/100\n",
            "350/350 [==============================] - 0s 1ms/step - loss: 0.4360 - accuracy: 0.8091\n",
            "Epoch 16/100\n",
            "350/350 [==============================] - 0s 1ms/step - loss: 0.4400 - accuracy: 0.8111\n",
            "Epoch 17/100\n",
            "350/350 [==============================] - 0s 1ms/step - loss: 0.4336 - accuracy: 0.8120\n",
            "Epoch 18/100\n",
            "350/350 [==============================] - 0s 1ms/step - loss: 0.4406 - accuracy: 0.8020\n",
            "Epoch 19/100\n",
            "350/350 [==============================] - 0s 1ms/step - loss: 0.4419 - accuracy: 0.8050\n",
            "Epoch 20/100\n",
            "350/350 [==============================] - 0s 940us/step - loss: 0.4478 - accuracy: 0.8002\n",
            "Epoch 21/100\n",
            "350/350 [==============================] - 0s 1ms/step - loss: 0.4316 - accuracy: 0.8131\n",
            "Epoch 22/100\n",
            "350/350 [==============================] - 0s 1ms/step - loss: 0.4531 - accuracy: 0.8010\n",
            "Epoch 23/100\n",
            "350/350 [==============================] - 0s 1ms/step - loss: 0.4363 - accuracy: 0.8041\n",
            "Epoch 24/100\n",
            "350/350 [==============================] - 0s 1ms/step - loss: 0.4369 - accuracy: 0.8075\n",
            "Epoch 25/100\n",
            "350/350 [==============================] - 0s 1ms/step - loss: 0.4208 - accuracy: 0.8218\n",
            "Epoch 26/100\n",
            "350/350 [==============================] - 0s 940us/step - loss: 0.4240 - accuracy: 0.8182\n",
            "Epoch 27/100\n",
            "350/350 [==============================] - 0s 1ms/step - loss: 0.4450 - accuracy: 0.7990\n",
            "Epoch 28/100\n",
            "350/350 [==============================] - 0s 995us/step - loss: 0.4496 - accuracy: 0.8048\n",
            "Epoch 29/100\n",
            "350/350 [==============================] - 0s 1ms/step - loss: 0.4481 - accuracy: 0.8030\n",
            "Epoch 30/100\n",
            "350/350 [==============================] - 0s 1ms/step - loss: 0.4328 - accuracy: 0.8059\n",
            "Epoch 31/100\n",
            "350/350 [==============================] - 0s 1ms/step - loss: 0.4155 - accuracy: 0.8222\n",
            "Epoch 32/100\n",
            "350/350 [==============================] - 0s 1ms/step - loss: 0.4224 - accuracy: 0.8218\n",
            "Epoch 33/100\n",
            "350/350 [==============================] - 0s 1ms/step - loss: 0.4362 - accuracy: 0.8136\n",
            "Epoch 34/100\n",
            "350/350 [==============================] - 0s 1ms/step - loss: 0.4347 - accuracy: 0.8114\n",
            "Epoch 35/100\n",
            "350/350 [==============================] - 0s 1ms/step - loss: 0.4394 - accuracy: 0.8062\n",
            "Epoch 36/100\n",
            "350/350 [==============================] - 0s 1ms/step - loss: 0.4309 - accuracy: 0.8066\n",
            "Epoch 37/100\n",
            "350/350 [==============================] - 0s 1ms/step - loss: 0.4555 - accuracy: 0.8010\n",
            "Epoch 38/100\n",
            "350/350 [==============================] - 0s 1ms/step - loss: 0.4305 - accuracy: 0.8063\n",
            "Epoch 39/100\n",
            "350/350 [==============================] - 0s 1ms/step - loss: 0.4497 - accuracy: 0.7998\n",
            "Epoch 40/100\n",
            "350/350 [==============================] - 0s 1ms/step - loss: 0.4349 - accuracy: 0.8088\n",
            "Epoch 41/100\n",
            "350/350 [==============================] - 0s 1ms/step - loss: 0.4400 - accuracy: 0.8010\n",
            "Epoch 42/100\n",
            "350/350 [==============================] - 0s 1ms/step - loss: 0.4432 - accuracy: 0.8018\n",
            "Epoch 43/100\n",
            "350/350 [==============================] - 0s 1ms/step - loss: 0.4340 - accuracy: 0.8084\n",
            "Epoch 44/100\n",
            "350/350 [==============================] - 0s 1ms/step - loss: 0.4341 - accuracy: 0.8070\n",
            "Epoch 45/100\n",
            "350/350 [==============================] - 0s 1ms/step - loss: 0.4448 - accuracy: 0.7993\n",
            "Epoch 46/100\n",
            "350/350 [==============================] - 0s 1ms/step - loss: 0.4471 - accuracy: 0.7943\n",
            "Epoch 47/100\n",
            "350/350 [==============================] - 0s 1ms/step - loss: 0.4237 - accuracy: 0.8172\n",
            "Epoch 48/100\n",
            "350/350 [==============================] - 0s 1ms/step - loss: 0.4208 - accuracy: 0.8174\n",
            "Epoch 49/100\n",
            "350/350 [==============================] - 0s 1ms/step - loss: 0.4462 - accuracy: 0.8021\n",
            "Epoch 50/100\n",
            "350/350 [==============================] - 0s 1ms/step - loss: 0.4261 - accuracy: 0.8081\n",
            "Epoch 51/100\n",
            "350/350 [==============================] - 0s 1ms/step - loss: 0.4223 - accuracy: 0.8157\n",
            "Epoch 52/100\n",
            "350/350 [==============================] - 0s 1ms/step - loss: 0.4364 - accuracy: 0.8038\n",
            "Epoch 53/100\n",
            "350/350 [==============================] - 0s 981us/step - loss: 0.4379 - accuracy: 0.8062\n",
            "Epoch 54/100\n",
            "350/350 [==============================] - 0s 1ms/step - loss: 0.4189 - accuracy: 0.8152\n",
            "Epoch 55/100\n",
            "350/350 [==============================] - 0s 1ms/step - loss: 0.4453 - accuracy: 0.7979\n",
            "Epoch 56/100\n",
            "350/350 [==============================] - 0s 1ms/step - loss: 0.4426 - accuracy: 0.8013\n",
            "Epoch 57/100\n",
            "350/350 [==============================] - 0s 1ms/step - loss: 0.4351 - accuracy: 0.8066\n",
            "Epoch 58/100\n",
            "350/350 [==============================] - 0s 964us/step - loss: 0.4214 - accuracy: 0.8157\n",
            "Epoch 59/100\n",
            "350/350 [==============================] - 0s 1ms/step - loss: 0.4345 - accuracy: 0.8069\n",
            "Epoch 60/100\n",
            "350/350 [==============================] - 0s 1ms/step - loss: 0.4348 - accuracy: 0.8101\n",
            "Epoch 61/100\n",
            "350/350 [==============================] - 0s 1ms/step - loss: 0.4160 - accuracy: 0.8193\n",
            "Epoch 62/100\n",
            "350/350 [==============================] - 0s 991us/step - loss: 0.4366 - accuracy: 0.8062\n",
            "Epoch 63/100\n",
            "350/350 [==============================] - 0s 940us/step - loss: 0.4426 - accuracy: 0.7976\n",
            "Epoch 64/100\n",
            "350/350 [==============================] - 0s 971us/step - loss: 0.4097 - accuracy: 0.8226\n",
            "Epoch 65/100\n",
            "350/350 [==============================] - 0s 1ms/step - loss: 0.4336 - accuracy: 0.8124\n",
            "Epoch 66/100\n",
            "350/350 [==============================] - 0s 976us/step - loss: 0.4318 - accuracy: 0.8080\n",
            "Epoch 67/100\n",
            "350/350 [==============================] - 0s 1ms/step - loss: 0.4365 - accuracy: 0.8128\n",
            "Epoch 68/100\n",
            "350/350 [==============================] - 0s 1ms/step - loss: 0.4282 - accuracy: 0.8024\n",
            "Epoch 69/100\n",
            "350/350 [==============================] - 0s 1ms/step - loss: 0.4332 - accuracy: 0.8121\n",
            "Epoch 70/100\n",
            "350/350 [==============================] - 0s 1ms/step - loss: 0.4392 - accuracy: 0.8018\n",
            "Epoch 71/100\n",
            "350/350 [==============================] - 0s 1ms/step - loss: 0.4299 - accuracy: 0.8097\n",
            "Epoch 72/100\n",
            "350/350 [==============================] - 0s 1ms/step - loss: 0.4401 - accuracy: 0.8005\n",
            "Epoch 73/100\n",
            "350/350 [==============================] - 0s 1ms/step - loss: 0.4481 - accuracy: 0.8017\n",
            "Epoch 74/100\n",
            "350/350 [==============================] - 0s 1ms/step - loss: 0.4352 - accuracy: 0.8081\n",
            "Epoch 75/100\n",
            "350/350 [==============================] - 0s 1ms/step - loss: 0.4258 - accuracy: 0.8226\n",
            "Epoch 76/100\n",
            "350/350 [==============================] - 0s 1ms/step - loss: 0.4327 - accuracy: 0.8108\n",
            "Epoch 77/100\n",
            "350/350 [==============================] - 0s 1ms/step - loss: 0.4326 - accuracy: 0.8087\n",
            "Epoch 78/100\n",
            "350/350 [==============================] - 0s 998us/step - loss: 0.4193 - accuracy: 0.8209\n",
            "Epoch 79/100\n",
            "350/350 [==============================] - 0s 1ms/step - loss: 0.4337 - accuracy: 0.8138\n",
            "Epoch 80/100\n",
            "350/350 [==============================] - 0s 1ms/step - loss: 0.4466 - accuracy: 0.8015\n",
            "Epoch 81/100\n",
            "350/350 [==============================] - 0s 1ms/step - loss: 0.4344 - accuracy: 0.8051\n",
            "Epoch 82/100\n",
            "350/350 [==============================] - 0s 1ms/step - loss: 0.4259 - accuracy: 0.8128\n",
            "Epoch 83/100\n",
            "350/350 [==============================] - 0s 1ms/step - loss: 0.4389 - accuracy: 0.8057\n",
            "Epoch 84/100\n",
            "350/350 [==============================] - 0s 1ms/step - loss: 0.4284 - accuracy: 0.8164\n",
            "Epoch 85/100\n",
            "350/350 [==============================] - 0s 1ms/step - loss: 0.4174 - accuracy: 0.8262\n",
            "Epoch 86/100\n",
            "350/350 [==============================] - 0s 984us/step - loss: 0.4284 - accuracy: 0.8124\n",
            "Epoch 87/100\n",
            "350/350 [==============================] - 0s 1ms/step - loss: 0.4391 - accuracy: 0.8069\n",
            "Epoch 88/100\n",
            "350/350 [==============================] - 0s 1ms/step - loss: 0.4234 - accuracy: 0.8199\n",
            "Epoch 89/100\n",
            "350/350 [==============================] - 0s 1ms/step - loss: 0.4463 - accuracy: 0.7957\n",
            "Epoch 90/100\n",
            "350/350 [==============================] - 0s 1ms/step - loss: 0.4280 - accuracy: 0.8148\n",
            "Epoch 91/100\n",
            "350/350 [==============================] - 0s 1ms/step - loss: 0.4474 - accuracy: 0.7960\n",
            "Epoch 92/100\n",
            "350/350 [==============================] - 0s 1ms/step - loss: 0.4465 - accuracy: 0.8014\n",
            "Epoch 93/100\n",
            "350/350 [==============================] - 0s 1ms/step - loss: 0.4417 - accuracy: 0.8055\n",
            "Epoch 94/100\n",
            "350/350 [==============================] - 0s 1ms/step - loss: 0.4458 - accuracy: 0.8029\n",
            "Epoch 95/100\n",
            "350/350 [==============================] - 0s 1ms/step - loss: 0.4442 - accuracy: 0.8044\n",
            "Epoch 96/100\n",
            "350/350 [==============================] - 0s 1ms/step - loss: 0.4192 - accuracy: 0.8263\n",
            "Epoch 97/100\n",
            "350/350 [==============================] - 0s 1ms/step - loss: 0.4511 - accuracy: 0.7983\n",
            "Epoch 98/100\n",
            "350/350 [==============================] - 0s 1ms/step - loss: 0.4254 - accuracy: 0.8170\n",
            "Epoch 99/100\n",
            "350/350 [==============================] - 0s 1ms/step - loss: 0.4381 - accuracy: 0.8005\n",
            "Epoch 100/100\n",
            "350/350 [==============================] - 0s 1ms/step - loss: 0.4348 - accuracy: 0.8056\n",
            "ANN training time (secs): 39.44915437698364\n",
            "ANN prediction time (secs): 0.1621384620666504\n",
            "ANN accuracy in testing set: 0.7846666666666666\n",
            "ANN F1 score in testing set: 0.7846666666666666\n",
            "ANN Confusion Matrix: [[988  32]\n",
            " [291 189]]\n"
          ],
          "name": "stdout"
        },
        {
          "output_type": "stream",
          "text": [
            "/usr/local/lib/python3.6/dist-packages/tensorflow/python/keras/engine/sequential.py:450: UserWarning: `model.predict_classes()` is deprecated and will be removed after 2021-01-01. Please use instead:* `np.argmax(model.predict(x), axis=-1)`,   if your model does multi-class classification   (e.g. if it uses a `softmax` last-layer activation).* `(model.predict(x) > 0.5).astype(\"int32\")`,   if your model does binary classification   (e.g. if it uses a `sigmoid` last-layer activation).\n",
            "  warnings.warn('`model.predict_classes()` is deprecated and '\n"
          ],
          "name": "stderr"
        }
      ]
    },
    {
      "cell_type": "code",
      "metadata": {
        "id": "UwmJEajcDnS2"
      },
      "source": [
        ""
      ],
      "execution_count": null,
      "outputs": []
    }
  ]
}